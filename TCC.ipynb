{
 "cells": [
  {
   "cell_type": "markdown",
   "id": "78d9aad3-7943-4bbd-851b-ddead23e350d",
   "metadata": {},
   "source": [
    "# 1. Importando Bibliotecas"
   ]
  },
  {
   "cell_type": "code",
   "execution_count": 2,
   "id": "dbb4f23c-fbe0-4eaf-b9d8-f0cce3bb438f",
   "metadata": {},
   "outputs": [],
   "source": [
    "import pandas as pd\n",
    "import numpy as np\n",
    "import matplotlib.pyplot as plt\n",
    "\n",
    "from sklearn.preprocessing import LabelEncoder\n",
    "from sklearn.model_selection import train_test_split\n",
    "from sklearn.naive_bayes import CategoricalNB\n",
    "from sklearn import metrics\n",
    "from sklearn.metrics import confusion_matrix\n",
    "from sklearn.ensemble import RandomForestClassifier\n"
   ]
  },
  {
   "cell_type": "markdown",
   "id": "805c8d6d-c9b0-459d-948e-445a690e070f",
   "metadata": {},
   "source": [
    "# 2. Importando o conjunto de dados"
   ]
  },
  {
   "cell_type": "code",
   "execution_count": 3,
   "id": "2354a1c4-8c49-4fc0-9d11-80c68ba6247d",
   "metadata": {},
   "outputs": [
    {
     "name": "stderr",
     "output_type": "stream",
     "text": [
      "C:\\Users\\T420_i5-2520M\\AppData\\Local\\Temp\\ipykernel_1620\\1001618688.py:1: DtypeWarning: Columns (13) have mixed types. Specify dtype option on import or set low_memory=False.\n",
      "  df = pd.read_csv(\"SPDadosCriminais_2023.csv\")\n"
     ]
    }
   ],
   "source": [
    "df = pd.read_csv(\"SPDadosCriminais_2023.csv\")"
   ]
  },
  {
   "cell_type": "code",
   "execution_count": 4,
   "id": "7a18fc25-5a4c-4e03-b207-5be3d09ab286",
   "metadata": {},
   "outputs": [
    {
     "name": "stdout",
     "output_type": "stream",
     "text": [
      "<class 'pandas.core.frame.DataFrame'>\n",
      "RangeIndex: 618397 entries, 0 to 618396\n",
      "Data columns (total 25 columns):\n",
      " #   Column                           Non-Null Count   Dtype  \n",
      "---  ------                           --------------   -----  \n",
      " 0   NOME_DEPARTAMENTO                618395 non-null  object \n",
      " 1   NOME_SECCIONAL                   618395 non-null  object \n",
      " 2   NOME_DELEGACIA                   618395 non-null  object \n",
      " 3   NOME_MUNICIPIO                   618395 non-null  object \n",
      " 4   NUM_BO                           618397 non-null  object \n",
      " 5   ANO_BO                           618397 non-null  int64  \n",
      " 6   DATA_REGISTRO                    618396 non-null  object \n",
      " 7   DATA_OCORRENCIA_BO               616258 non-null  object \n",
      " 8   HORA_OCORRENCIA_BO               432730 non-null  object \n",
      " 9   DESC_PERIODO                     185667 non-null  object \n",
      " 10  DESCR_SUBTIPOLOCAL               618397 non-null  object \n",
      " 11  BAIRRO                           608728 non-null  object \n",
      " 12  LOGRADOURO                       618397 non-null  object \n",
      " 13  NUMERO_LOGRADOURO                516929 non-null  object \n",
      " 14  LATITUDE                         556799 non-null  float64\n",
      " 15  LONGITUDE                        556799 non-null  float64\n",
      " 16  NOME_DELEGACIA_CIRCUNSCRIÇÃO     618397 non-null  object \n",
      " 17  NOME_DEPARTAMENTO_CIRCUNSCRIÇÃO  618397 non-null  object \n",
      " 18  NOME_SECCIONAL_CIRCUNSCRIÇÃO     618397 non-null  object \n",
      " 19  NOME_MUNICIPIO_CIRCUNSCRIÇÃO     618397 non-null  object \n",
      " 20  RUBRICA                          618383 non-null  object \n",
      " 21  DESCR_CONDUTA                    469999 non-null  object \n",
      " 22  NATUREZA_APURADA                 618397 non-null  object \n",
      " 23  MES_ESTATISTICA                  618397 non-null  int64  \n",
      " 24  ANO_ESTATISTICA                  618397 non-null  int64  \n",
      "dtypes: float64(2), int64(3), object(20)\n",
      "memory usage: 117.9+ MB\n"
     ]
    }
   ],
   "source": [
    "df.info()"
   ]
  },
  {
   "cell_type": "markdown",
   "id": "d4ee12b9-dab0-42ec-8d74-cbda6e669179",
   "metadata": {},
   "source": [
    "# 3. Processamento de Dados"
   ]
  },
  {
   "cell_type": "markdown",
   "id": "5b333a33-fef9-469a-b810-ef04843608e6",
   "metadata": {},
   "source": [
    "## 3.1 Excluindo atributos não relevantes ao modelo"
   ]
  },
  {
   "cell_type": "code",
   "execution_count": 5,
   "id": "e4ad32c5-f63b-4e7e-8187-2017fd8307ae",
   "metadata": {
    "tags": []
   },
   "outputs": [],
   "source": [
    "df.drop(['NOME_DEPARTAMENTO', 'NOME_SECCIONAL', 'NOME_DELEGACIA', 'NUM_BO', 'ANO_BO', 'DESC_PERIODO', 'DESCR_SUBTIPOLOCAL', 'NOME_DELEGACIA_CIRCUNSCRIÇÃO', 'NOME_DEPARTAMENTO_CIRCUNSCRIÇÃO',\n",
    " 'NOME_SECCIONAL_CIRCUNSCRIÇÃO', 'DESCR_CONDUTA', 'MES_ESTATISTICA', 'ANO_ESTATISTICA'], axis=1, inplace=True)"
   ]
  },
  {
   "cell_type": "code",
   "execution_count": 6,
   "id": "8d88121a-6757-481e-8403-f0fea77ded8d",
   "metadata": {},
   "outputs": [
    {
     "name": "stdout",
     "output_type": "stream",
     "text": [
      "<class 'pandas.core.frame.DataFrame'>\n",
      "RangeIndex: 618397 entries, 0 to 618396\n",
      "Data columns (total 12 columns):\n",
      " #   Column                        Non-Null Count   Dtype  \n",
      "---  ------                        --------------   -----  \n",
      " 0   NOME_MUNICIPIO                618395 non-null  object \n",
      " 1   DATA_REGISTRO                 618396 non-null  object \n",
      " 2   DATA_OCORRENCIA_BO            616258 non-null  object \n",
      " 3   HORA_OCORRENCIA_BO            432730 non-null  object \n",
      " 4   BAIRRO                        608728 non-null  object \n",
      " 5   LOGRADOURO                    618397 non-null  object \n",
      " 6   NUMERO_LOGRADOURO             516929 non-null  object \n",
      " 7   LATITUDE                      556799 non-null  float64\n",
      " 8   LONGITUDE                     556799 non-null  float64\n",
      " 9   NOME_MUNICIPIO_CIRCUNSCRIÇÃO  618397 non-null  object \n",
      " 10  RUBRICA                       618383 non-null  object \n",
      " 11  NATUREZA_APURADA              618397 non-null  object \n",
      "dtypes: float64(2), object(10)\n",
      "memory usage: 56.6+ MB\n"
     ]
    }
   ],
   "source": [
    "df.info()"
   ]
  },
  {
   "cell_type": "markdown",
   "id": "10208a37-7bd6-4e4e-914d-a934d1328872",
   "metadata": {},
   "source": [
    "## 3.2 Filtrando dados nulos ou inúteis"
   ]
  },
  {
   "cell_type": "code",
   "execution_count": 7,
   "id": "3450125a-8070-4c77-bbd2-4976a68344e4",
   "metadata": {},
   "outputs": [],
   "source": [
    "df = df[df[\"LOGRADOURO\"] != \"VEDAÇÃO DA DIVULGAÇÃO DOS DADOS RELATIVOS\"]"
   ]
  },
  {
   "cell_type": "code",
   "execution_count": 8,
   "id": "8ef4d5be-e523-4b9b-a778-cd0f33003691",
   "metadata": {},
   "outputs": [
    {
     "name": "stdout",
     "output_type": "stream",
     "text": [
      "array(['Furto (art. 155)',\n",
      "       'Homicídio culposo na direção de veículo automotor (Art. 302)',\n",
      "       'Homicídio (art. 121)', 'Lesão corporal (art. 129)',\n",
      "       'Lesão corporal culposa na direção de veículo automotor (Art. 303)',\n",
      "       'Porte ilegal de arma de fogo de uso permitido (Art. 14)',\n",
      "       'Posse ou porte ilegal de arma de fogo de uso restrito (Art. 16)',\n",
      "       'Drogas para consumo pessoal sem autorização ou em desacordo (Art.28,caput)',\n",
      "       'Roubo (art. 157)',\n",
      "       'Drogas sem autorização ou em desacordo (Art.33, caput)',\n",
      "       'Localização/Apreensão de objeto', 'Outros não criminal',\n",
      "       'Associarem-se duas ou mais pessoas - arts. 33, caput e § 1o, e 34 (Art.35,caput)',\n",
      "       'Comunicação de óbito', 'Entrega de objeto localizado/apreendido',\n",
      "       'Porte de arma (art. 19)', 'Atropelamento', 'Morte suspeita',\n",
      "       'Capotamento', 'Desobediência (art. 330)',\n",
      "       'Adulteração de sinal identificador de veículo automotor (art. 311)',\n",
      "       'Furto de coisa comum (art. 156)',\n",
      "       'Extorsão mediante seqüestro (art. 159)', 'Colisão', 'Choque',\n",
      "       'Engavetamento', 'Favorecimento pessoal (art. 348)',\n",
      "       'Ameaça (art. 147)', 'Fuga de local de acidente (Art. 305)', nan,\n",
      "       'Embriaguez ao volante (Art. 306)',\n",
      "       'Dirigir sem Permissão ou Habilitação (Art. 309)',\n",
      "       'Localização/Apreensão e Entrega de objeto',\n",
      "       'Entrega de veículo localizado/apreendido',\n",
      "       'Receptação (art. 180)',\n",
      "       'Cumprimento de mandado de prisão temporária',\n",
      "       'Localização/Apreensão de veículo',\n",
      "       'Destruir ou danificar vegetação primária ou secundária(Art.38-A)',\n",
      "       'Contrabando (Art 334A )',\n",
      "       'Caput Corromper ou facilitar a corrupção de menor de 18 anos (244B)',\n",
      "       'Auto lesão', 'Localização/Apreensão e Entrega de veículo',\n",
      "       'Qq. objeto destinado a fabr., prep., prod. ou transformação de drogas (Art.34)',\n",
      "       'Direção perigosa de veículo na via pública (art. 34)',\n",
      "       'Captura de procurado',\n",
      "       'Cumprimento de mandado de busca e apreensão',\n",
      "       'Entrada ilegal de aparelho movél de comunicação em estabelecimento prisional',\n",
      "       'Resistência (art. 329)', 'Dano (art. 163)', 'Abalroamento',\n",
      "       'Suicídio consumado', 'Associação Criminosa (art. 288)',\n",
      "       'Posse irregular de arma de fogo de uso permitido (Art.12)',\n",
      "       'homicídio culposo',\n",
      "       'Trafegar em velocidade incompatível (Art. 311)',\n",
      "       'Disparo de arma de fogo (Art. 15)',\n",
      "       'Destruição, subtração ou ocultação de cadáver (art. 211)',\n",
      "       'Apreensão de Adolescente', 'Art. 213 - Estupro',\n",
      "       'Desacato (art. 331)',\n",
      "       'HomicIdio culposo na direção de veIculo automotor (Art. 302)',\n",
      "       'Jogo de azar (art. 50)'], dtype=object)\n"
     ]
    }
   ],
   "source": [
    "from pprint import pprint\n",
    "pprint(df[\"RUBRICA\"].unique())"
   ]
  },
  {
   "cell_type": "markdown",
   "id": "a4fd3b79-408d-4109-b57c-d8960251d5f2",
   "metadata": {},
   "source": [
    "## 3.3 Filtrando crimes não devidamente enquadrados no Código Penal"
   ]
  },
  {
   "cell_type": "code",
   "execution_count": 9,
   "id": "56a09d31-1d6e-47c1-b8fc-96797e16241f",
   "metadata": {},
   "outputs": [],
   "source": [
    "excluir = ['Localização/Apreensão de objeto', 'Outros não criminal', 'Comunicação de óbito', 'Entrega de objeto localizado/apreendido', 'Atropelamento', 'Morte suspeita', 'Capotamento','Colisão', 'Choque','Engavetamento','Localização/Apreensão e Entrega de objeto','Entrega de veículo localizado/apreendido', 'Cumprimento de mandado de prisão temporária',\n",
    "       'Localização/Apreensão de veículo','Auto lesão', 'Localização/Apreensão e Entrega de veículo','Cumprimento de mandado de busca e apreensão', 'Entrada ilegal de aparelho movél de comunicação em estabelecimento prisional', 'Abalroamento', 'Suicídio consumado','homicídio culposo','Apreensão de Adolescente']\n",
    "\n",
    "df = df[~df[\"RUBRICA\"].isin(excluir)]"
   ]
  },
  {
   "cell_type": "code",
   "execution_count": 10,
   "id": "f3955902-e7e6-490b-8580-976630d7f479",
   "metadata": {},
   "outputs": [
    {
     "data": {
      "text/plain": [
       "array(['Furto (art. 155)',\n",
       "       'Homicídio culposo na direção de veículo automotor (Art. 302)',\n",
       "       'Homicídio (art. 121)', 'Lesão corporal (art. 129)',\n",
       "       'Lesão corporal culposa na direção de veículo automotor (Art. 303)',\n",
       "       'Porte ilegal de arma de fogo de uso permitido (Art. 14)',\n",
       "       'Posse ou porte ilegal de arma de fogo de uso restrito (Art. 16)',\n",
       "       'Drogas para consumo pessoal sem autorização ou em desacordo (Art.28,caput)',\n",
       "       'Roubo (art. 157)',\n",
       "       'Drogas sem autorização ou em desacordo (Art.33, caput)',\n",
       "       'Associarem-se duas ou mais pessoas - arts. 33, caput e § 1o, e 34 (Art.35,caput)',\n",
       "       'Porte de arma (art. 19)', 'Desobediência (art. 330)',\n",
       "       'Adulteração de sinal identificador de veículo automotor (art. 311)',\n",
       "       'Furto de coisa comum (art. 156)',\n",
       "       'Extorsão mediante seqüestro (art. 159)',\n",
       "       'Favorecimento pessoal (art. 348)', 'Ameaça (art. 147)',\n",
       "       'Fuga de local de acidente (Art. 305)', nan,\n",
       "       'Embriaguez ao volante (Art. 306)',\n",
       "       'Dirigir sem Permissão ou Habilitação (Art. 309)',\n",
       "       'Receptação (art. 180)',\n",
       "       'Destruir ou danificar vegetação primária ou secundária(Art.38-A)',\n",
       "       'Contrabando (Art 334A )',\n",
       "       'Caput Corromper ou facilitar a corrupção de menor de 18 anos (244B)',\n",
       "       'Qq. objeto destinado a fabr., prep., prod. ou transformação de drogas (Art.34)',\n",
       "       'Direção perigosa de veículo na via pública (art. 34)',\n",
       "       'Captura de procurado', 'Resistência (art. 329)',\n",
       "       'Dano (art. 163)', 'Associação Criminosa (art. 288)',\n",
       "       'Posse irregular de arma de fogo de uso permitido (Art.12)',\n",
       "       'Trafegar em velocidade incompatível (Art. 311)',\n",
       "       'Disparo de arma de fogo (Art. 15)',\n",
       "       'Destruição, subtração ou ocultação de cadáver (art. 211)',\n",
       "       'Art. 213 - Estupro', 'Desacato (art. 331)',\n",
       "       'HomicIdio culposo na direção de veIculo automotor (Art. 302)',\n",
       "       'Jogo de azar (art. 50)'], dtype=object)"
      ]
     },
     "execution_count": 10,
     "metadata": {},
     "output_type": "execute_result"
    }
   ],
   "source": [
    "df[\"RUBRICA\"].unique()"
   ]
  },
  {
   "cell_type": "markdown",
   "id": "222fdd67-f080-4a61-a4f0-c5cd922c8637",
   "metadata": {},
   "source": [
    "## 3.4 Excluindo valores nulos"
   ]
  },
  {
   "cell_type": "code",
   "execution_count": 11,
   "id": "b9624fa3-661f-4458-893e-d516c190d8f0",
   "metadata": {},
   "outputs": [],
   "source": [
    "df.dropna(inplace=True)"
   ]
  },
  {
   "cell_type": "code",
   "execution_count": 12,
   "id": "bf1121b9-0869-4212-9cdd-b3efb7feffe5",
   "metadata": {},
   "outputs": [
    {
     "data": {
      "text/html": [
       "<div>\n",
       "<style scoped>\n",
       "    .dataframe tbody tr th:only-of-type {\n",
       "        vertical-align: middle;\n",
       "    }\n",
       "\n",
       "    .dataframe tbody tr th {\n",
       "        vertical-align: top;\n",
       "    }\n",
       "\n",
       "    .dataframe thead th {\n",
       "        text-align: right;\n",
       "    }\n",
       "</style>\n",
       "<table border=\"1\" class=\"dataframe\">\n",
       "  <thead>\n",
       "    <tr style=\"text-align: right;\">\n",
       "      <th></th>\n",
       "      <th>NOME_MUNICIPIO</th>\n",
       "      <th>DATA_REGISTRO</th>\n",
       "      <th>DATA_OCORRENCIA_BO</th>\n",
       "      <th>HORA_OCORRENCIA_BO</th>\n",
       "      <th>BAIRRO</th>\n",
       "      <th>LOGRADOURO</th>\n",
       "      <th>NUMERO_LOGRADOURO</th>\n",
       "      <th>LATITUDE</th>\n",
       "      <th>LONGITUDE</th>\n",
       "      <th>NOME_MUNICIPIO_CIRCUNSCRIÇÃO</th>\n",
       "      <th>RUBRICA</th>\n",
       "      <th>NATUREZA_APURADA</th>\n",
       "    </tr>\n",
       "  </thead>\n",
       "  <tbody>\n",
       "    <tr>\n",
       "      <th>5</th>\n",
       "      <td>S.PAULO</td>\n",
       "      <td>01/01/2023</td>\n",
       "      <td>12/31/2022</td>\n",
       "      <td>09:00:00 PM</td>\n",
       "      <td>SE</td>\n",
       "      <td>AVENIDA DO ESTADO</td>\n",
       "      <td>4021.0</td>\n",
       "      <td>-23.552728</td>\n",
       "      <td>-46.626623</td>\n",
       "      <td>S.PAULO</td>\n",
       "      <td>Furto (art. 155)</td>\n",
       "      <td>FURTO - OUTROS</td>\n",
       "    </tr>\n",
       "    <tr>\n",
       "      <th>8</th>\n",
       "      <td>S.PAULO</td>\n",
       "      <td>01/01/2023</td>\n",
       "      <td>01/01/2023</td>\n",
       "      <td>07:45:00 AM</td>\n",
       "      <td>BRÁS</td>\n",
       "      <td>AVENIDA DO ESTADO</td>\n",
       "      <td>4127.0</td>\n",
       "      <td>-23.551932</td>\n",
       "      <td>-46.625661</td>\n",
       "      <td>S.PAULO</td>\n",
       "      <td>Furto (art. 155)</td>\n",
       "      <td>FURTO - OUTROS</td>\n",
       "    </tr>\n",
       "    <tr>\n",
       "      <th>10</th>\n",
       "      <td>S.PAULO</td>\n",
       "      <td>12/31/2022</td>\n",
       "      <td>12/31/2022</td>\n",
       "      <td>04:20:00 PM</td>\n",
       "      <td>SE</td>\n",
       "      <td>RUA DO GLICERIO</td>\n",
       "      <td>90.0</td>\n",
       "      <td>-23.553375</td>\n",
       "      <td>-46.627812</td>\n",
       "      <td>S.PAULO</td>\n",
       "      <td>Furto (art. 155)</td>\n",
       "      <td>FURTO - OUTROS</td>\n",
       "    </tr>\n",
       "  </tbody>\n",
       "</table>\n",
       "</div>"
      ],
      "text/plain": [
       "   NOME_MUNICIPIO DATA_REGISTRO DATA_OCORRENCIA_BO HORA_OCORRENCIA_BO BAIRRO  \\\n",
       "5         S.PAULO    01/01/2023         12/31/2022        09:00:00 PM     SE   \n",
       "8         S.PAULO    01/01/2023         01/01/2023        07:45:00 AM   BRÁS   \n",
       "10        S.PAULO    12/31/2022         12/31/2022        04:20:00 PM     SE   \n",
       "\n",
       "           LOGRADOURO NUMERO_LOGRADOURO   LATITUDE  LONGITUDE  \\\n",
       "5   AVENIDA DO ESTADO            4021.0 -23.552728 -46.626623   \n",
       "8   AVENIDA DO ESTADO            4127.0 -23.551932 -46.625661   \n",
       "10    RUA DO GLICERIO              90.0 -23.553375 -46.627812   \n",
       "\n",
       "   NOME_MUNICIPIO_CIRCUNSCRIÇÃO           RUBRICA NATUREZA_APURADA  \n",
       "5                       S.PAULO  Furto (art. 155)   FURTO - OUTROS  \n",
       "8                       S.PAULO  Furto (art. 155)   FURTO - OUTROS  \n",
       "10                      S.PAULO  Furto (art. 155)   FURTO - OUTROS  "
      ]
     },
     "execution_count": 12,
     "metadata": {},
     "output_type": "execute_result"
    }
   ],
   "source": [
    "df. head(3)"
   ]
  },
  {
   "cell_type": "markdown",
   "id": "35b3700d-e09f-413b-ac78-a5bf69f76683",
   "metadata": {},
   "source": [
    "## 3.5 Obtendo valores atomizados a partir de datas"
   ]
  },
  {
   "cell_type": "code",
   "execution_count": 13,
   "id": "dc4b5086-1298-406b-a19b-f26be34f21af",
   "metadata": {},
   "outputs": [],
   "source": [
    "df[\"DATA_REGISTRO\"] = pd.to_datetime(df[\"DATA_REGISTRO\"])\n",
    "df[\"DATA_OCORRENCIA_BO\"] = pd.to_datetime(df[\"DATA_OCORRENCIA_BO\"])"
   ]
  },
  {
   "cell_type": "code",
   "execution_count": 14,
   "id": "f293fc66-eeae-438d-b81f-a4074a523422",
   "metadata": {},
   "outputs": [],
   "source": [
    "df[\"DIAS_REGISTRO\"] = (df[\"DATA_REGISTRO\"] - df[\"DATA_OCORRENCIA_BO\"]).astype(str)"
   ]
  },
  {
   "cell_type": "code",
   "execution_count": 15,
   "id": "99598c45-ecd9-4212-86b2-2523e680efdb",
   "metadata": {},
   "outputs": [],
   "source": [
    "df[\"DIAS_REGISTRO\"] = df[\"DIAS_REGISTRO\"].str[0]"
   ]
  },
  {
   "cell_type": "code",
   "execution_count": 16,
   "id": "68ac1796-14c4-4ddc-aa5b-107af3cceb05",
   "metadata": {},
   "outputs": [],
   "source": [
    "df[\"MES_REGISTRO\"] = df[\"DATA_REGISTRO\"].dt.month\n",
    "df[\"DIA_REGISTRO\"] = df[\"DATA_REGISTRO\"].dt.day"
   ]
  },
  {
   "cell_type": "code",
   "execution_count": 17,
   "id": "bc776eb3-3b6a-44e4-8816-59c2802f5f04",
   "metadata": {},
   "outputs": [],
   "source": [
    "df[\"MES_OCORRENCIA\"] = df[\"DATA_OCORRENCIA_BO\"].dt.month\n",
    "df[\"DIA_OCORRENCIA\"] = df[\"DATA_OCORRENCIA_BO\"].dt.day"
   ]
  },
  {
   "cell_type": "code",
   "execution_count": 18,
   "id": "594b581d-570c-403e-af86-814b7dcd7078",
   "metadata": {},
   "outputs": [],
   "source": [
    "df[\"HORA_OCORRENCIA_BO\"] = df[\"HORA_OCORRENCIA_BO\"].str[:2]"
   ]
  },
  {
   "cell_type": "code",
   "execution_count": 19,
   "id": "87390ca2-1d02-426f-ac19-9cb1fcfa1721",
   "metadata": {},
   "outputs": [
    {
     "data": {
      "text/html": [
       "<div>\n",
       "<style scoped>\n",
       "    .dataframe tbody tr th:only-of-type {\n",
       "        vertical-align: middle;\n",
       "    }\n",
       "\n",
       "    .dataframe tbody tr th {\n",
       "        vertical-align: top;\n",
       "    }\n",
       "\n",
       "    .dataframe thead th {\n",
       "        text-align: right;\n",
       "    }\n",
       "</style>\n",
       "<table border=\"1\" class=\"dataframe\">\n",
       "  <thead>\n",
       "    <tr style=\"text-align: right;\">\n",
       "      <th></th>\n",
       "      <th>NOME_MUNICIPIO</th>\n",
       "      <th>DATA_REGISTRO</th>\n",
       "      <th>DATA_OCORRENCIA_BO</th>\n",
       "      <th>HORA_OCORRENCIA_BO</th>\n",
       "      <th>BAIRRO</th>\n",
       "      <th>LOGRADOURO</th>\n",
       "      <th>NUMERO_LOGRADOURO</th>\n",
       "      <th>LATITUDE</th>\n",
       "      <th>LONGITUDE</th>\n",
       "      <th>NOME_MUNICIPIO_CIRCUNSCRIÇÃO</th>\n",
       "      <th>RUBRICA</th>\n",
       "      <th>NATUREZA_APURADA</th>\n",
       "      <th>DIAS_REGISTRO</th>\n",
       "      <th>MES_REGISTRO</th>\n",
       "      <th>DIA_REGISTRO</th>\n",
       "      <th>MES_OCORRENCIA</th>\n",
       "      <th>DIA_OCORRENCIA</th>\n",
       "    </tr>\n",
       "  </thead>\n",
       "  <tbody>\n",
       "    <tr>\n",
       "      <th>5</th>\n",
       "      <td>S.PAULO</td>\n",
       "      <td>2023-01-01</td>\n",
       "      <td>2022-12-31</td>\n",
       "      <td>09</td>\n",
       "      <td>SE</td>\n",
       "      <td>AVENIDA DO ESTADO</td>\n",
       "      <td>4021.0</td>\n",
       "      <td>-23.552728</td>\n",
       "      <td>-46.626623</td>\n",
       "      <td>S.PAULO</td>\n",
       "      <td>Furto (art. 155)</td>\n",
       "      <td>FURTO - OUTROS</td>\n",
       "      <td>1</td>\n",
       "      <td>1</td>\n",
       "      <td>1</td>\n",
       "      <td>12</td>\n",
       "      <td>31</td>\n",
       "    </tr>\n",
       "    <tr>\n",
       "      <th>8</th>\n",
       "      <td>S.PAULO</td>\n",
       "      <td>2023-01-01</td>\n",
       "      <td>2023-01-01</td>\n",
       "      <td>07</td>\n",
       "      <td>BRÁS</td>\n",
       "      <td>AVENIDA DO ESTADO</td>\n",
       "      <td>4127.0</td>\n",
       "      <td>-23.551932</td>\n",
       "      <td>-46.625661</td>\n",
       "      <td>S.PAULO</td>\n",
       "      <td>Furto (art. 155)</td>\n",
       "      <td>FURTO - OUTROS</td>\n",
       "      <td>0</td>\n",
       "      <td>1</td>\n",
       "      <td>1</td>\n",
       "      <td>1</td>\n",
       "      <td>1</td>\n",
       "    </tr>\n",
       "    <tr>\n",
       "      <th>10</th>\n",
       "      <td>S.PAULO</td>\n",
       "      <td>2022-12-31</td>\n",
       "      <td>2022-12-31</td>\n",
       "      <td>04</td>\n",
       "      <td>SE</td>\n",
       "      <td>RUA DO GLICERIO</td>\n",
       "      <td>90.0</td>\n",
       "      <td>-23.553375</td>\n",
       "      <td>-46.627812</td>\n",
       "      <td>S.PAULO</td>\n",
       "      <td>Furto (art. 155)</td>\n",
       "      <td>FURTO - OUTROS</td>\n",
       "      <td>0</td>\n",
       "      <td>12</td>\n",
       "      <td>31</td>\n",
       "      <td>12</td>\n",
       "      <td>31</td>\n",
       "    </tr>\n",
       "  </tbody>\n",
       "</table>\n",
       "</div>"
      ],
      "text/plain": [
       "   NOME_MUNICIPIO DATA_REGISTRO DATA_OCORRENCIA_BO HORA_OCORRENCIA_BO BAIRRO  \\\n",
       "5         S.PAULO    2023-01-01         2022-12-31                 09     SE   \n",
       "8         S.PAULO    2023-01-01         2023-01-01                 07   BRÁS   \n",
       "10        S.PAULO    2022-12-31         2022-12-31                 04     SE   \n",
       "\n",
       "           LOGRADOURO NUMERO_LOGRADOURO   LATITUDE  LONGITUDE  \\\n",
       "5   AVENIDA DO ESTADO            4021.0 -23.552728 -46.626623   \n",
       "8   AVENIDA DO ESTADO            4127.0 -23.551932 -46.625661   \n",
       "10    RUA DO GLICERIO              90.0 -23.553375 -46.627812   \n",
       "\n",
       "   NOME_MUNICIPIO_CIRCUNSCRIÇÃO           RUBRICA NATUREZA_APURADA  \\\n",
       "5                       S.PAULO  Furto (art. 155)   FURTO - OUTROS   \n",
       "8                       S.PAULO  Furto (art. 155)   FURTO - OUTROS   \n",
       "10                      S.PAULO  Furto (art. 155)   FURTO - OUTROS   \n",
       "\n",
       "   DIAS_REGISTRO  MES_REGISTRO  DIA_REGISTRO  MES_OCORRENCIA  DIA_OCORRENCIA  \n",
       "5              1             1             1              12              31  \n",
       "8              0             1             1               1               1  \n",
       "10             0            12            31              12              31  "
      ]
     },
     "execution_count": 19,
     "metadata": {},
     "output_type": "execute_result"
    }
   ],
   "source": [
    "df.head(3)"
   ]
  },
  {
   "cell_type": "markdown",
   "id": "d2810cad-c0e9-49b6-b933-da3e9fe79aeb",
   "metadata": {},
   "source": [
    "## 3.6 Reorganizando o conjunto de dados"
   ]
  },
  {
   "cell_type": "code",
   "execution_count": 20,
   "id": "37d8bf39-e2e6-413a-97c1-c0cbc16bdbcf",
   "metadata": {},
   "outputs": [],
   "source": [
    "df = df[['NOME_MUNICIPIO', 'DIAS_REGISTRO', 'MES_REGISTRO', 'DIA_REGISTRO', 'MES_OCORRENCIA', 'DIA_OCORRENCIA',\n",
    "        \"HORA_OCORRENCIA_BO\", 'BAIRRO', 'LOGRADOURO',\n",
    "       'NUMERO_LOGRADOURO', 'LATITUDE', 'LONGITUDE',\n",
    "       'NOME_MUNICIPIO_CIRCUNSCRIÇÃO', 'NATUREZA_APURADA', 'RUBRICA']]"
   ]
  },
  {
   "cell_type": "code",
   "execution_count": 21,
   "id": "66c5a579-6510-4067-be91-2fd4432ce350",
   "metadata": {},
   "outputs": [
    {
     "data": {
      "text/html": [
       "<div>\n",
       "<style scoped>\n",
       "    .dataframe tbody tr th:only-of-type {\n",
       "        vertical-align: middle;\n",
       "    }\n",
       "\n",
       "    .dataframe tbody tr th {\n",
       "        vertical-align: top;\n",
       "    }\n",
       "\n",
       "    .dataframe thead th {\n",
       "        text-align: right;\n",
       "    }\n",
       "</style>\n",
       "<table border=\"1\" class=\"dataframe\">\n",
       "  <thead>\n",
       "    <tr style=\"text-align: right;\">\n",
       "      <th></th>\n",
       "      <th>NOME_MUNICIPIO</th>\n",
       "      <th>DIAS_REGISTRO</th>\n",
       "      <th>MES_REGISTRO</th>\n",
       "      <th>DIA_REGISTRO</th>\n",
       "      <th>MES_OCORRENCIA</th>\n",
       "      <th>DIA_OCORRENCIA</th>\n",
       "      <th>HORA_OCORRENCIA_BO</th>\n",
       "      <th>BAIRRO</th>\n",
       "      <th>LOGRADOURO</th>\n",
       "      <th>NUMERO_LOGRADOURO</th>\n",
       "      <th>LATITUDE</th>\n",
       "      <th>LONGITUDE</th>\n",
       "      <th>NOME_MUNICIPIO_CIRCUNSCRIÇÃO</th>\n",
       "      <th>NATUREZA_APURADA</th>\n",
       "      <th>RUBRICA</th>\n",
       "    </tr>\n",
       "  </thead>\n",
       "  <tbody>\n",
       "    <tr>\n",
       "      <th>5</th>\n",
       "      <td>S.PAULO</td>\n",
       "      <td>1</td>\n",
       "      <td>1</td>\n",
       "      <td>1</td>\n",
       "      <td>12</td>\n",
       "      <td>31</td>\n",
       "      <td>09</td>\n",
       "      <td>SE</td>\n",
       "      <td>AVENIDA DO ESTADO</td>\n",
       "      <td>4021.0</td>\n",
       "      <td>-23.552728</td>\n",
       "      <td>-46.626623</td>\n",
       "      <td>S.PAULO</td>\n",
       "      <td>FURTO - OUTROS</td>\n",
       "      <td>Furto (art. 155)</td>\n",
       "    </tr>\n",
       "    <tr>\n",
       "      <th>8</th>\n",
       "      <td>S.PAULO</td>\n",
       "      <td>0</td>\n",
       "      <td>1</td>\n",
       "      <td>1</td>\n",
       "      <td>1</td>\n",
       "      <td>1</td>\n",
       "      <td>07</td>\n",
       "      <td>BRÁS</td>\n",
       "      <td>AVENIDA DO ESTADO</td>\n",
       "      <td>4127.0</td>\n",
       "      <td>-23.551932</td>\n",
       "      <td>-46.625661</td>\n",
       "      <td>S.PAULO</td>\n",
       "      <td>FURTO - OUTROS</td>\n",
       "      <td>Furto (art. 155)</td>\n",
       "    </tr>\n",
       "    <tr>\n",
       "      <th>10</th>\n",
       "      <td>S.PAULO</td>\n",
       "      <td>0</td>\n",
       "      <td>12</td>\n",
       "      <td>31</td>\n",
       "      <td>12</td>\n",
       "      <td>31</td>\n",
       "      <td>04</td>\n",
       "      <td>SE</td>\n",
       "      <td>RUA DO GLICERIO</td>\n",
       "      <td>90.0</td>\n",
       "      <td>-23.553375</td>\n",
       "      <td>-46.627812</td>\n",
       "      <td>S.PAULO</td>\n",
       "      <td>FURTO - OUTROS</td>\n",
       "      <td>Furto (art. 155)</td>\n",
       "    </tr>\n",
       "  </tbody>\n",
       "</table>\n",
       "</div>"
      ],
      "text/plain": [
       "   NOME_MUNICIPIO DIAS_REGISTRO  MES_REGISTRO  DIA_REGISTRO  MES_OCORRENCIA  \\\n",
       "5         S.PAULO             1             1             1              12   \n",
       "8         S.PAULO             0             1             1               1   \n",
       "10        S.PAULO             0            12            31              12   \n",
       "\n",
       "    DIA_OCORRENCIA HORA_OCORRENCIA_BO BAIRRO         LOGRADOURO  \\\n",
       "5               31                 09     SE  AVENIDA DO ESTADO   \n",
       "8                1                 07   BRÁS  AVENIDA DO ESTADO   \n",
       "10              31                 04     SE    RUA DO GLICERIO   \n",
       "\n",
       "   NUMERO_LOGRADOURO   LATITUDE  LONGITUDE NOME_MUNICIPIO_CIRCUNSCRIÇÃO  \\\n",
       "5             4021.0 -23.552728 -46.626623                      S.PAULO   \n",
       "8             4127.0 -23.551932 -46.625661                      S.PAULO   \n",
       "10              90.0 -23.553375 -46.627812                      S.PAULO   \n",
       "\n",
       "   NATUREZA_APURADA           RUBRICA  \n",
       "5    FURTO - OUTROS  Furto (art. 155)  \n",
       "8    FURTO - OUTROS  Furto (art. 155)  \n",
       "10   FURTO - OUTROS  Furto (art. 155)  "
      ]
     },
     "execution_count": 21,
     "metadata": {},
     "output_type": "execute_result"
    }
   ],
   "source": [
    "df.head(3)"
   ]
  },
  {
   "cell_type": "markdown",
   "id": "2a7e9740-7216-4ade-a2cf-936135471f40",
   "metadata": {},
   "source": [
    "## 3.7 Transformando valores em formato de cadeia em valores numéricos"
   ]
  },
  {
   "cell_type": "code",
   "execution_count": 22,
   "id": "aa00bc1e-0a33-46bf-902a-ebd344cbcc5b",
   "metadata": {},
   "outputs": [
    {
     "name": "stdout",
     "output_type": "stream",
     "text": [
      "<class 'pandas.core.frame.DataFrame'>\n",
      "Int64Index: 327218 entries, 5 to 618396\n",
      "Data columns (total 15 columns):\n",
      " #   Column                        Non-Null Count   Dtype  \n",
      "---  ------                        --------------   -----  \n",
      " 0   NOME_MUNICIPIO                327218 non-null  object \n",
      " 1   DIAS_REGISTRO                 327218 non-null  object \n",
      " 2   MES_REGISTRO                  327218 non-null  int64  \n",
      " 3   DIA_REGISTRO                  327218 non-null  int64  \n",
      " 4   MES_OCORRENCIA                327218 non-null  int64  \n",
      " 5   DIA_OCORRENCIA                327218 non-null  int64  \n",
      " 6   HORA_OCORRENCIA_BO            327218 non-null  object \n",
      " 7   BAIRRO                        327218 non-null  object \n",
      " 8   LOGRADOURO                    327218 non-null  object \n",
      " 9   NUMERO_LOGRADOURO             327218 non-null  object \n",
      " 10  LATITUDE                      327218 non-null  float64\n",
      " 11  LONGITUDE                     327218 non-null  float64\n",
      " 12  NOME_MUNICIPIO_CIRCUNSCRIÇÃO  327218 non-null  object \n",
      " 13  NATUREZA_APURADA              327218 non-null  object \n",
      " 14  RUBRICA                       327218 non-null  object \n",
      "dtypes: float64(2), int64(4), object(9)\n",
      "memory usage: 39.9+ MB\n"
     ]
    }
   ],
   "source": [
    "df.info()"
   ]
  },
  {
   "cell_type": "code",
   "execution_count": 23,
   "id": "e30f8f72-52f3-4950-802b-ea1de17e97f5",
   "metadata": {},
   "outputs": [],
   "source": [
    "df[\"DIAS_REGISTRO\"] = df[\"DIAS_REGISTRO\"].astype(np.int64)\n",
    "df[\"HORA_OCORRENCIA_BO\"] = df[\"HORA_OCORRENCIA_BO\"].astype(np.int64)\n",
    "df[\"NUMERO_LOGRADOURO\"] = df[\"NUMERO_LOGRADOURO\"].astype(np.int64)"
   ]
  },
  {
   "cell_type": "code",
   "execution_count": 24,
   "id": "73dd2aec-9a0c-4cb8-8c9d-4feac40d7748",
   "metadata": {},
   "outputs": [
    {
     "name": "stdout",
     "output_type": "stream",
     "text": [
      "<class 'pandas.core.frame.DataFrame'>\n",
      "Int64Index: 327218 entries, 5 to 618396\n",
      "Data columns (total 15 columns):\n",
      " #   Column                        Non-Null Count   Dtype  \n",
      "---  ------                        --------------   -----  \n",
      " 0   NOME_MUNICIPIO                327218 non-null  object \n",
      " 1   DIAS_REGISTRO                 327218 non-null  int64  \n",
      " 2   MES_REGISTRO                  327218 non-null  int64  \n",
      " 3   DIA_REGISTRO                  327218 non-null  int64  \n",
      " 4   MES_OCORRENCIA                327218 non-null  int64  \n",
      " 5   DIA_OCORRENCIA                327218 non-null  int64  \n",
      " 6   HORA_OCORRENCIA_BO            327218 non-null  int64  \n",
      " 7   BAIRRO                        327218 non-null  object \n",
      " 8   LOGRADOURO                    327218 non-null  object \n",
      " 9   NUMERO_LOGRADOURO             327218 non-null  int64  \n",
      " 10  LATITUDE                      327218 non-null  float64\n",
      " 11  LONGITUDE                     327218 non-null  float64\n",
      " 12  NOME_MUNICIPIO_CIRCUNSCRIÇÃO  327218 non-null  object \n",
      " 13  NATUREZA_APURADA              327218 non-null  object \n",
      " 14  RUBRICA                       327218 non-null  object \n",
      "dtypes: float64(2), int64(7), object(6)\n",
      "memory usage: 39.9+ MB\n"
     ]
    }
   ],
   "source": [
    "df.info()"
   ]
  },
  {
   "cell_type": "markdown",
   "id": "f94267af-de6e-43ee-baf4-d914d8196064",
   "metadata": {},
   "source": [
    "## 3.8 Modularizando coordenadas geográficas"
   ]
  },
  {
   "cell_type": "code",
   "execution_count": 25,
   "id": "23e3d1d8-7756-4695-8f51-71ddaae2f169",
   "metadata": {},
   "outputs": [],
   "source": [
    "df[\"LATITUDE\"] = df[\"LATITUDE\"].abs()\n",
    "df[\"LONGITUDE\"] = df[\"LONGITUDE\"].abs()"
   ]
  },
  {
   "cell_type": "code",
   "execution_count": 26,
   "id": "2b28c8c5-0035-4c14-9533-a8f249814d9a",
   "metadata": {},
   "outputs": [
    {
     "data": {
      "text/html": [
       "<div>\n",
       "<style scoped>\n",
       "    .dataframe tbody tr th:only-of-type {\n",
       "        vertical-align: middle;\n",
       "    }\n",
       "\n",
       "    .dataframe tbody tr th {\n",
       "        vertical-align: top;\n",
       "    }\n",
       "\n",
       "    .dataframe thead th {\n",
       "        text-align: right;\n",
       "    }\n",
       "</style>\n",
       "<table border=\"1\" class=\"dataframe\">\n",
       "  <thead>\n",
       "    <tr style=\"text-align: right;\">\n",
       "      <th></th>\n",
       "      <th>NOME_MUNICIPIO</th>\n",
       "      <th>DIAS_REGISTRO</th>\n",
       "      <th>MES_REGISTRO</th>\n",
       "      <th>DIA_REGISTRO</th>\n",
       "      <th>MES_OCORRENCIA</th>\n",
       "      <th>DIA_OCORRENCIA</th>\n",
       "      <th>HORA_OCORRENCIA_BO</th>\n",
       "      <th>BAIRRO</th>\n",
       "      <th>LOGRADOURO</th>\n",
       "      <th>NUMERO_LOGRADOURO</th>\n",
       "      <th>LATITUDE</th>\n",
       "      <th>LONGITUDE</th>\n",
       "      <th>NOME_MUNICIPIO_CIRCUNSCRIÇÃO</th>\n",
       "      <th>NATUREZA_APURADA</th>\n",
       "      <th>RUBRICA</th>\n",
       "    </tr>\n",
       "  </thead>\n",
       "  <tbody>\n",
       "    <tr>\n",
       "      <th>5</th>\n",
       "      <td>S.PAULO</td>\n",
       "      <td>1</td>\n",
       "      <td>1</td>\n",
       "      <td>1</td>\n",
       "      <td>12</td>\n",
       "      <td>31</td>\n",
       "      <td>9</td>\n",
       "      <td>SE</td>\n",
       "      <td>AVENIDA DO ESTADO</td>\n",
       "      <td>4021</td>\n",
       "      <td>23.552728</td>\n",
       "      <td>46.626623</td>\n",
       "      <td>S.PAULO</td>\n",
       "      <td>FURTO - OUTROS</td>\n",
       "      <td>Furto (art. 155)</td>\n",
       "    </tr>\n",
       "    <tr>\n",
       "      <th>8</th>\n",
       "      <td>S.PAULO</td>\n",
       "      <td>0</td>\n",
       "      <td>1</td>\n",
       "      <td>1</td>\n",
       "      <td>1</td>\n",
       "      <td>1</td>\n",
       "      <td>7</td>\n",
       "      <td>BRÁS</td>\n",
       "      <td>AVENIDA DO ESTADO</td>\n",
       "      <td>4127</td>\n",
       "      <td>23.551932</td>\n",
       "      <td>46.625661</td>\n",
       "      <td>S.PAULO</td>\n",
       "      <td>FURTO - OUTROS</td>\n",
       "      <td>Furto (art. 155)</td>\n",
       "    </tr>\n",
       "    <tr>\n",
       "      <th>10</th>\n",
       "      <td>S.PAULO</td>\n",
       "      <td>0</td>\n",
       "      <td>12</td>\n",
       "      <td>31</td>\n",
       "      <td>12</td>\n",
       "      <td>31</td>\n",
       "      <td>4</td>\n",
       "      <td>SE</td>\n",
       "      <td>RUA DO GLICERIO</td>\n",
       "      <td>90</td>\n",
       "      <td>23.553375</td>\n",
       "      <td>46.627812</td>\n",
       "      <td>S.PAULO</td>\n",
       "      <td>FURTO - OUTROS</td>\n",
       "      <td>Furto (art. 155)</td>\n",
       "    </tr>\n",
       "  </tbody>\n",
       "</table>\n",
       "</div>"
      ],
      "text/plain": [
       "   NOME_MUNICIPIO  DIAS_REGISTRO  MES_REGISTRO  DIA_REGISTRO  MES_OCORRENCIA  \\\n",
       "5         S.PAULO              1             1             1              12   \n",
       "8         S.PAULO              0             1             1               1   \n",
       "10        S.PAULO              0            12            31              12   \n",
       "\n",
       "    DIA_OCORRENCIA  HORA_OCORRENCIA_BO BAIRRO         LOGRADOURO  \\\n",
       "5               31                   9     SE  AVENIDA DO ESTADO   \n",
       "8                1                   7   BRÁS  AVENIDA DO ESTADO   \n",
       "10              31                   4     SE    RUA DO GLICERIO   \n",
       "\n",
       "    NUMERO_LOGRADOURO   LATITUDE  LONGITUDE NOME_MUNICIPIO_CIRCUNSCRIÇÃO  \\\n",
       "5                4021  23.552728  46.626623                      S.PAULO   \n",
       "8                4127  23.551932  46.625661                      S.PAULO   \n",
       "10                 90  23.553375  46.627812                      S.PAULO   \n",
       "\n",
       "   NATUREZA_APURADA           RUBRICA  \n",
       "5    FURTO - OUTROS  Furto (art. 155)  \n",
       "8    FURTO - OUTROS  Furto (art. 155)  \n",
       "10   FURTO - OUTROS  Furto (art. 155)  "
      ]
     },
     "execution_count": 26,
     "metadata": {},
     "output_type": "execute_result"
    }
   ],
   "source": [
    "df.head(3)"
   ]
  },
  {
   "cell_type": "markdown",
   "id": "7c034931-93d1-4500-9c9f-bddea18de5a2",
   "metadata": {},
   "source": [
    "## 3.9 Excluindo atributos sobressalentes após experimentos iniciais"
   ]
  },
  {
   "cell_type": "code",
   "execution_count": 27,
   "id": "78a6ee23-d850-4434-8556-2d75b80555ef",
   "metadata": {},
   "outputs": [],
   "source": [
    "df.drop([\"NOME_MUNICIPIO\", \"BAIRRO\", \"LOGRADOURO\",\"NOME_MUNICIPIO_CIRCUNSCRIÇÃO\", \"NATUREZA_APURADA\" ], axis=1, inplace=True)"
   ]
  },
  {
   "cell_type": "code",
   "execution_count": 28,
   "id": "86163a22-6df6-4f0f-9daf-0c6cc6ed8a99",
   "metadata": {},
   "outputs": [
    {
     "data": {
      "text/html": [
       "<div>\n",
       "<style scoped>\n",
       "    .dataframe tbody tr th:only-of-type {\n",
       "        vertical-align: middle;\n",
       "    }\n",
       "\n",
       "    .dataframe tbody tr th {\n",
       "        vertical-align: top;\n",
       "    }\n",
       "\n",
       "    .dataframe thead th {\n",
       "        text-align: right;\n",
       "    }\n",
       "</style>\n",
       "<table border=\"1\" class=\"dataframe\">\n",
       "  <thead>\n",
       "    <tr style=\"text-align: right;\">\n",
       "      <th></th>\n",
       "      <th>DIAS_REGISTRO</th>\n",
       "      <th>MES_REGISTRO</th>\n",
       "      <th>DIA_REGISTRO</th>\n",
       "      <th>MES_OCORRENCIA</th>\n",
       "      <th>DIA_OCORRENCIA</th>\n",
       "      <th>HORA_OCORRENCIA_BO</th>\n",
       "      <th>NUMERO_LOGRADOURO</th>\n",
       "      <th>LATITUDE</th>\n",
       "      <th>LONGITUDE</th>\n",
       "      <th>RUBRICA</th>\n",
       "    </tr>\n",
       "  </thead>\n",
       "  <tbody>\n",
       "    <tr>\n",
       "      <th>5</th>\n",
       "      <td>1</td>\n",
       "      <td>1</td>\n",
       "      <td>1</td>\n",
       "      <td>12</td>\n",
       "      <td>31</td>\n",
       "      <td>9</td>\n",
       "      <td>4021</td>\n",
       "      <td>23.552728</td>\n",
       "      <td>46.626623</td>\n",
       "      <td>Furto (art. 155)</td>\n",
       "    </tr>\n",
       "    <tr>\n",
       "      <th>8</th>\n",
       "      <td>0</td>\n",
       "      <td>1</td>\n",
       "      <td>1</td>\n",
       "      <td>1</td>\n",
       "      <td>1</td>\n",
       "      <td>7</td>\n",
       "      <td>4127</td>\n",
       "      <td>23.551932</td>\n",
       "      <td>46.625661</td>\n",
       "      <td>Furto (art. 155)</td>\n",
       "    </tr>\n",
       "    <tr>\n",
       "      <th>10</th>\n",
       "      <td>0</td>\n",
       "      <td>12</td>\n",
       "      <td>31</td>\n",
       "      <td>12</td>\n",
       "      <td>31</td>\n",
       "      <td>4</td>\n",
       "      <td>90</td>\n",
       "      <td>23.553375</td>\n",
       "      <td>46.627812</td>\n",
       "      <td>Furto (art. 155)</td>\n",
       "    </tr>\n",
       "  </tbody>\n",
       "</table>\n",
       "</div>"
      ],
      "text/plain": [
       "    DIAS_REGISTRO  MES_REGISTRO  DIA_REGISTRO  MES_OCORRENCIA  DIA_OCORRENCIA  \\\n",
       "5               1             1             1              12              31   \n",
       "8               0             1             1               1               1   \n",
       "10              0            12            31              12              31   \n",
       "\n",
       "    HORA_OCORRENCIA_BO  NUMERO_LOGRADOURO   LATITUDE  LONGITUDE  \\\n",
       "5                    9               4021  23.552728  46.626623   \n",
       "8                    7               4127  23.551932  46.625661   \n",
       "10                   4                 90  23.553375  46.627812   \n",
       "\n",
       "             RUBRICA  \n",
       "5   Furto (art. 155)  \n",
       "8   Furto (art. 155)  \n",
       "10  Furto (art. 155)  "
      ]
     },
     "execution_count": 28,
     "metadata": {},
     "output_type": "execute_result"
    }
   ],
   "source": [
    "df.head(3)"
   ]
  },
  {
   "cell_type": "markdown",
   "id": "faae35c6-0aca-4499-b285-02e029045960",
   "metadata": {},
   "source": [
    "## 3.10 Aplicando a função LabelEnconder ao atributo alvo"
   ]
  },
  {
   "cell_type": "code",
   "execution_count": 29,
   "id": "e5c9c191-b892-45dc-a1a3-2610461f4766",
   "metadata": {},
   "outputs": [],
   "source": [
    "labelenconder = LabelEncoder()\n",
    "\n",
    "df[\"CLASSIFICACAO\"] = labelenconder.fit_transform(df[\"RUBRICA\"])\n"
   ]
  },
  {
   "cell_type": "code",
   "execution_count": 30,
   "id": "447ae7d5-6f03-4bd1-b536-4e7786773738",
   "metadata": {},
   "outputs": [
    {
     "data": {
      "text/html": [
       "<div>\n",
       "<style scoped>\n",
       "    .dataframe tbody tr th:only-of-type {\n",
       "        vertical-align: middle;\n",
       "    }\n",
       "\n",
       "    .dataframe tbody tr th {\n",
       "        vertical-align: top;\n",
       "    }\n",
       "\n",
       "    .dataframe thead th {\n",
       "        text-align: right;\n",
       "    }\n",
       "</style>\n",
       "<table border=\"1\" class=\"dataframe\">\n",
       "  <thead>\n",
       "    <tr style=\"text-align: right;\">\n",
       "      <th></th>\n",
       "      <th>DIAS_REGISTRO</th>\n",
       "      <th>MES_REGISTRO</th>\n",
       "      <th>DIA_REGISTRO</th>\n",
       "      <th>MES_OCORRENCIA</th>\n",
       "      <th>DIA_OCORRENCIA</th>\n",
       "      <th>HORA_OCORRENCIA_BO</th>\n",
       "      <th>NUMERO_LOGRADOURO</th>\n",
       "      <th>LATITUDE</th>\n",
       "      <th>LONGITUDE</th>\n",
       "      <th>RUBRICA</th>\n",
       "      <th>CLASSIFICACAO</th>\n",
       "    </tr>\n",
       "  </thead>\n",
       "  <tbody>\n",
       "    <tr>\n",
       "      <th>5</th>\n",
       "      <td>1</td>\n",
       "      <td>1</td>\n",
       "      <td>1</td>\n",
       "      <td>12</td>\n",
       "      <td>31</td>\n",
       "      <td>9</td>\n",
       "      <td>4021</td>\n",
       "      <td>23.552728</td>\n",
       "      <td>46.626623</td>\n",
       "      <td>Furto (art. 155)</td>\n",
       "      <td>21</td>\n",
       "    </tr>\n",
       "    <tr>\n",
       "      <th>8</th>\n",
       "      <td>0</td>\n",
       "      <td>1</td>\n",
       "      <td>1</td>\n",
       "      <td>1</td>\n",
       "      <td>1</td>\n",
       "      <td>7</td>\n",
       "      <td>4127</td>\n",
       "      <td>23.551932</td>\n",
       "      <td>46.625661</td>\n",
       "      <td>Furto (art. 155)</td>\n",
       "      <td>21</td>\n",
       "    </tr>\n",
       "    <tr>\n",
       "      <th>10</th>\n",
       "      <td>0</td>\n",
       "      <td>12</td>\n",
       "      <td>31</td>\n",
       "      <td>12</td>\n",
       "      <td>31</td>\n",
       "      <td>4</td>\n",
       "      <td>90</td>\n",
       "      <td>23.553375</td>\n",
       "      <td>46.627812</td>\n",
       "      <td>Furto (art. 155)</td>\n",
       "      <td>21</td>\n",
       "    </tr>\n",
       "  </tbody>\n",
       "</table>\n",
       "</div>"
      ],
      "text/plain": [
       "    DIAS_REGISTRO  MES_REGISTRO  DIA_REGISTRO  MES_OCORRENCIA  DIA_OCORRENCIA  \\\n",
       "5               1             1             1              12              31   \n",
       "8               0             1             1               1               1   \n",
       "10              0            12            31              12              31   \n",
       "\n",
       "    HORA_OCORRENCIA_BO  NUMERO_LOGRADOURO   LATITUDE  LONGITUDE  \\\n",
       "5                    9               4021  23.552728  46.626623   \n",
       "8                    7               4127  23.551932  46.625661   \n",
       "10                   4                 90  23.553375  46.627812   \n",
       "\n",
       "             RUBRICA  CLASSIFICACAO  \n",
       "5   Furto (art. 155)             21  \n",
       "8   Furto (art. 155)             21  \n",
       "10  Furto (art. 155)             21  "
      ]
     },
     "execution_count": 30,
     "metadata": {},
     "output_type": "execute_result"
    }
   ],
   "source": [
    "df.head(3)"
   ]
  },
  {
   "cell_type": "markdown",
   "id": "2f552478-57a6-416d-b737-b6fc4da3a391",
   "metadata": {},
   "source": [
    "## 3.11 Organizando os dados"
   ]
  },
  {
   "cell_type": "code",
   "execution_count": 31,
   "id": "631aed24-fe5c-4e64-9550-2548992dec4f",
   "metadata": {},
   "outputs": [],
   "source": [
    "df = df[['DIAS_REGISTRO', 'MES_REGISTRO', 'DIA_REGISTRO', 'MES_OCORRENCIA', 'DIA_OCORRENCIA',\n",
    "        \"HORA_OCORRENCIA_BO\", 'LATITUDE', 'LONGITUDE',\n",
    "        'CLASSIFICACAO','RUBRICA']]"
   ]
  },
  {
   "cell_type": "code",
   "execution_count": 32,
   "id": "944176ec-0fef-41f8-bfca-689181e7c141",
   "metadata": {},
   "outputs": [
    {
     "data": {
      "text/html": [
       "<div>\n",
       "<style scoped>\n",
       "    .dataframe tbody tr th:only-of-type {\n",
       "        vertical-align: middle;\n",
       "    }\n",
       "\n",
       "    .dataframe tbody tr th {\n",
       "        vertical-align: top;\n",
       "    }\n",
       "\n",
       "    .dataframe thead th {\n",
       "        text-align: right;\n",
       "    }\n",
       "</style>\n",
       "<table border=\"1\" class=\"dataframe\">\n",
       "  <thead>\n",
       "    <tr style=\"text-align: right;\">\n",
       "      <th></th>\n",
       "      <th>DIAS_REGISTRO</th>\n",
       "      <th>MES_REGISTRO</th>\n",
       "      <th>DIA_REGISTRO</th>\n",
       "      <th>MES_OCORRENCIA</th>\n",
       "      <th>DIA_OCORRENCIA</th>\n",
       "      <th>HORA_OCORRENCIA_BO</th>\n",
       "      <th>LATITUDE</th>\n",
       "      <th>LONGITUDE</th>\n",
       "      <th>CLASSIFICACAO</th>\n",
       "      <th>RUBRICA</th>\n",
       "    </tr>\n",
       "  </thead>\n",
       "  <tbody>\n",
       "    <tr>\n",
       "      <th>5</th>\n",
       "      <td>1</td>\n",
       "      <td>1</td>\n",
       "      <td>1</td>\n",
       "      <td>12</td>\n",
       "      <td>31</td>\n",
       "      <td>9</td>\n",
       "      <td>23.552728</td>\n",
       "      <td>46.626623</td>\n",
       "      <td>21</td>\n",
       "      <td>Furto (art. 155)</td>\n",
       "    </tr>\n",
       "    <tr>\n",
       "      <th>8</th>\n",
       "      <td>0</td>\n",
       "      <td>1</td>\n",
       "      <td>1</td>\n",
       "      <td>1</td>\n",
       "      <td>1</td>\n",
       "      <td>7</td>\n",
       "      <td>23.551932</td>\n",
       "      <td>46.625661</td>\n",
       "      <td>21</td>\n",
       "      <td>Furto (art. 155)</td>\n",
       "    </tr>\n",
       "    <tr>\n",
       "      <th>10</th>\n",
       "      <td>0</td>\n",
       "      <td>12</td>\n",
       "      <td>31</td>\n",
       "      <td>12</td>\n",
       "      <td>31</td>\n",
       "      <td>4</td>\n",
       "      <td>23.553375</td>\n",
       "      <td>46.627812</td>\n",
       "      <td>21</td>\n",
       "      <td>Furto (art. 155)</td>\n",
       "    </tr>\n",
       "  </tbody>\n",
       "</table>\n",
       "</div>"
      ],
      "text/plain": [
       "    DIAS_REGISTRO  MES_REGISTRO  DIA_REGISTRO  MES_OCORRENCIA  DIA_OCORRENCIA  \\\n",
       "5               1             1             1              12              31   \n",
       "8               0             1             1               1               1   \n",
       "10              0            12            31              12              31   \n",
       "\n",
       "    HORA_OCORRENCIA_BO   LATITUDE  LONGITUDE  CLASSIFICACAO           RUBRICA  \n",
       "5                    9  23.552728  46.626623             21  Furto (art. 155)  \n",
       "8                    7  23.551932  46.625661             21  Furto (art. 155)  \n",
       "10                   4  23.553375  46.627812             21  Furto (art. 155)  "
      ]
     },
     "execution_count": 32,
     "metadata": {},
     "output_type": "execute_result"
    }
   ],
   "source": [
    "df.head(3)"
   ]
  },
  {
   "cell_type": "markdown",
   "id": "4abe5601-6044-4cdd-a329-87a2efb91fd2",
   "metadata": {},
   "source": [
    "## 3.12 Diminuindo a quantidade de atributos alvo"
   ]
  },
  {
   "cell_type": "code",
   "execution_count": 33,
   "id": "a969559f-ce20-47e7-9720-791bb7c33860",
   "metadata": {},
   "outputs": [
    {
     "data": {
      "text/plain": [
       "DIAS_REGISTRO  MES_REGISTRO  DIA_REGISTRO  MES_OCORRENCIA  DIA_OCORRENCIA  HORA_OCORRENCIA_BO  LATITUDE   LONGITUDE  CLASSIFICACAO  RUBRICA                                                                   \n",
       "0              6             10            6               10              12                  22.729741  47.252680  21             Furto (art. 155)                                                              14\n",
       "               3             31            3               31              12                  23.945150  46.313258  15             Drogas para consumo pessoal sem autorização ou em desacordo (Art.28,caput)    10\n",
       "                                                                           11                  23.945150  46.313258  15             Drogas para consumo pessoal sem autorização ou em desacordo (Art.28,caput)     9\n",
       "               6             10            6               10              3                   22.729741  47.252680  21             Furto (art. 155)                                                               9\n",
       "3              2             12            1               5               4                   23.145161  47.506113  15             Drogas para consumo pessoal sem autorização ou em desacordo (Art.28,caput)     8\n",
       "                                                                                                                                                                                                                  ..\n",
       "0              5             1             5               1               12                  23.512117  46.516762  16             Drogas sem autorização ou em desacordo (Art.33, caput)                         1\n",
       "                                                                                               23.510878  46.865148  15             Drogas para consumo pessoal sem autorização ou em desacordo (Art.28,caput)     1\n",
       "                                                                                               23.490350  46.618402  21             Furto (art. 155)                                                               1\n",
       "                                                                                               23.487794  45.154002  21             Furto (art. 155)                                                               1\n",
       "9              12            31            12              22              10                  23.440223  46.788405  36             Roubo (art. 157)                                                               1\n",
       "Length: 324148, dtype: int64"
      ]
     },
     "execution_count": 33,
     "metadata": {},
     "output_type": "execute_result"
    }
   ],
   "source": [
    "contador = df[\"RUBRICA\"].value_counts() \n",
    "df.value_counts()"
   ]
  },
  {
   "cell_type": "code",
   "execution_count": 34,
   "id": "c054536e-45bf-47cd-b735-ba6fd1f990c0",
   "metadata": {},
   "outputs": [],
   "source": [
    "df  = df[df[\"RUBRICA\"].isin(df[\"RUBRICA\"].value_counts()[df[\"RUBRICA\"].value_counts() > 200].index)]"
   ]
  },
  {
   "cell_type": "code",
   "execution_count": 35,
   "id": "0f469df8-b3bd-44fe-8883-e4ec2e1b7aaa",
   "metadata": {},
   "outputs": [
    {
     "data": {
      "text/plain": [
       "Furto (art. 155)                                                                    137108\n",
       "Roubo (art. 157)                                                                    106804\n",
       "Lesão corporal culposa na direção de veículo automotor (Art. 303)                    29101\n",
       "Lesão corporal (art. 129)                                                            28187\n",
       "Drogas sem autorização ou em desacordo (Art.33, caput)                               13639\n",
       "Drogas para consumo pessoal sem autorização ou em desacordo (Art.28,caput)            6000\n",
       "Homicídio (art. 121)                                                                  1962\n",
       "Associarem-se duas ou mais pessoas - arts. 33, caput e § 1o, e 34 (Art.35,caput)      1115\n",
       "Homicídio culposo na direção de veículo automotor (Art. 302)                          1035\n",
       "Porte ilegal de arma de fogo de uso permitido (Art. 14)                                854\n",
       "Posse ou porte ilegal de arma de fogo de uso restrito (Art. 16)                        645\n",
       "Porte de arma (art. 19)                                                                291\n",
       "HomicIdio culposo na direção de veIculo automotor (Art. 302)                           240\n",
       "Name: RUBRICA, dtype: int64"
      ]
     },
     "execution_count": 35,
     "metadata": {},
     "output_type": "execute_result"
    }
   ],
   "source": [
    "df[\"RUBRICA\"].value_counts()"
   ]
  },
  {
   "cell_type": "markdown",
   "id": "99ef2cd1-7826-4fbe-b674-285109f35c08",
   "metadata": {},
   "source": [
    "## 3.13 Balanceado os dados "
   ]
  },
  {
   "cell_type": "code",
   "execution_count": 36,
   "id": "37237875-8181-4990-a573-9b0115350b06",
   "metadata": {},
   "outputs": [
    {
     "data": {
      "text/html": [
       "<div>\n",
       "<style scoped>\n",
       "    .dataframe tbody tr th:only-of-type {\n",
       "        vertical-align: middle;\n",
       "    }\n",
       "\n",
       "    .dataframe tbody tr th {\n",
       "        vertical-align: top;\n",
       "    }\n",
       "\n",
       "    .dataframe thead th {\n",
       "        text-align: right;\n",
       "    }\n",
       "</style>\n",
       "<table border=\"1\" class=\"dataframe\">\n",
       "  <thead>\n",
       "    <tr style=\"text-align: right;\">\n",
       "      <th></th>\n",
       "      <th>DIAS_REGISTRO</th>\n",
       "      <th>MES_REGISTRO</th>\n",
       "      <th>DIA_REGISTRO</th>\n",
       "      <th>MES_OCORRENCIA</th>\n",
       "      <th>DIA_OCORRENCIA</th>\n",
       "      <th>HORA_OCORRENCIA_BO</th>\n",
       "      <th>LATITUDE</th>\n",
       "      <th>LONGITUDE</th>\n",
       "      <th>CLASSIFICACAO</th>\n",
       "      <th>RUBRICA</th>\n",
       "    </tr>\n",
       "  </thead>\n",
       "  <tbody>\n",
       "    <tr>\n",
       "      <th>425727</th>\n",
       "      <td>0</td>\n",
       "      <td>5</td>\n",
       "      <td>1</td>\n",
       "      <td>5</td>\n",
       "      <td>1</td>\n",
       "      <td>12</td>\n",
       "      <td>23.583695</td>\n",
       "      <td>46.667371</td>\n",
       "      <td>21</td>\n",
       "      <td>Furto (art. 155)</td>\n",
       "    </tr>\n",
       "    <tr>\n",
       "      <th>287011</th>\n",
       "      <td>3</td>\n",
       "      <td>3</td>\n",
       "      <td>7</td>\n",
       "      <td>3</td>\n",
       "      <td>4</td>\n",
       "      <td>4</td>\n",
       "      <td>22.787094</td>\n",
       "      <td>47.299026</td>\n",
       "      <td>28</td>\n",
       "      <td>Lesão corporal culposa na direção de veículo a...</td>\n",
       "    </tr>\n",
       "    <tr>\n",
       "      <th>297317</th>\n",
       "      <td>0</td>\n",
       "      <td>3</td>\n",
       "      <td>29</td>\n",
       "      <td>3</td>\n",
       "      <td>29</td>\n",
       "      <td>3</td>\n",
       "      <td>23.391669</td>\n",
       "      <td>46.282985</td>\n",
       "      <td>36</td>\n",
       "      <td>Roubo (art. 157)</td>\n",
       "    </tr>\n",
       "    <tr>\n",
       "      <th>443656</th>\n",
       "      <td>0</td>\n",
       "      <td>5</td>\n",
       "      <td>31</td>\n",
       "      <td>5</td>\n",
       "      <td>31</td>\n",
       "      <td>2</td>\n",
       "      <td>23.712943</td>\n",
       "      <td>46.698560</td>\n",
       "      <td>21</td>\n",
       "      <td>Furto (art. 155)</td>\n",
       "    </tr>\n",
       "    <tr>\n",
       "      <th>85559</th>\n",
       "      <td>1</td>\n",
       "      <td>1</td>\n",
       "      <td>8</td>\n",
       "      <td>1</td>\n",
       "      <td>7</td>\n",
       "      <td>7</td>\n",
       "      <td>23.592098</td>\n",
       "      <td>46.832799</td>\n",
       "      <td>21</td>\n",
       "      <td>Furto (art. 155)</td>\n",
       "    </tr>\n",
       "    <tr>\n",
       "      <th>...</th>\n",
       "      <td>...</td>\n",
       "      <td>...</td>\n",
       "      <td>...</td>\n",
       "      <td>...</td>\n",
       "      <td>...</td>\n",
       "      <td>...</td>\n",
       "      <td>...</td>\n",
       "      <td>...</td>\n",
       "      <td>...</td>\n",
       "      <td>...</td>\n",
       "    </tr>\n",
       "    <tr>\n",
       "      <th>19120</th>\n",
       "      <td>0</td>\n",
       "      <td>1</td>\n",
       "      <td>24</td>\n",
       "      <td>1</td>\n",
       "      <td>24</td>\n",
       "      <td>7</td>\n",
       "      <td>23.634334</td>\n",
       "      <td>46.725488</td>\n",
       "      <td>36</td>\n",
       "      <td>Roubo (art. 157)</td>\n",
       "    </tr>\n",
       "    <tr>\n",
       "      <th>132671</th>\n",
       "      <td>4</td>\n",
       "      <td>2</td>\n",
       "      <td>6</td>\n",
       "      <td>2</td>\n",
       "      <td>2</td>\n",
       "      <td>11</td>\n",
       "      <td>23.626547</td>\n",
       "      <td>46.710285</td>\n",
       "      <td>21</td>\n",
       "      <td>Furto (art. 155)</td>\n",
       "    </tr>\n",
       "    <tr>\n",
       "      <th>374110</th>\n",
       "      <td>5</td>\n",
       "      <td>4</td>\n",
       "      <td>11</td>\n",
       "      <td>4</td>\n",
       "      <td>6</td>\n",
       "      <td>6</td>\n",
       "      <td>20.211492</td>\n",
       "      <td>50.927189</td>\n",
       "      <td>28</td>\n",
       "      <td>Lesão corporal culposa na direção de veículo a...</td>\n",
       "    </tr>\n",
       "    <tr>\n",
       "      <th>50257</th>\n",
       "      <td>0</td>\n",
       "      <td>1</td>\n",
       "      <td>8</td>\n",
       "      <td>1</td>\n",
       "      <td>8</td>\n",
       "      <td>4</td>\n",
       "      <td>22.593498</td>\n",
       "      <td>46.524964</td>\n",
       "      <td>27</td>\n",
       "      <td>Lesão corporal (art. 129)</td>\n",
       "    </tr>\n",
       "    <tr>\n",
       "      <th>403221</th>\n",
       "      <td>5</td>\n",
       "      <td>4</td>\n",
       "      <td>21</td>\n",
       "      <td>4</td>\n",
       "      <td>16</td>\n",
       "      <td>9</td>\n",
       "      <td>23.530797</td>\n",
       "      <td>46.810058</td>\n",
       "      <td>36</td>\n",
       "      <td>Roubo (art. 157)</td>\n",
       "    </tr>\n",
       "  </tbody>\n",
       "</table>\n",
       "<p>100000 rows × 10 columns</p>\n",
       "</div>"
      ],
      "text/plain": [
       "        DIAS_REGISTRO  MES_REGISTRO  DIA_REGISTRO  MES_OCORRENCIA  \\\n",
       "425727              0             5             1               5   \n",
       "287011              3             3             7               3   \n",
       "297317              0             3            29               3   \n",
       "443656              0             5            31               5   \n",
       "85559               1             1             8               1   \n",
       "...               ...           ...           ...             ...   \n",
       "19120               0             1            24               1   \n",
       "132671              4             2             6               2   \n",
       "374110              5             4            11               4   \n",
       "50257               0             1             8               1   \n",
       "403221              5             4            21               4   \n",
       "\n",
       "        DIA_OCORRENCIA  HORA_OCORRENCIA_BO   LATITUDE  LONGITUDE  \\\n",
       "425727               1                  12  23.583695  46.667371   \n",
       "287011               4                   4  22.787094  47.299026   \n",
       "297317              29                   3  23.391669  46.282985   \n",
       "443656              31                   2  23.712943  46.698560   \n",
       "85559                7                   7  23.592098  46.832799   \n",
       "...                ...                 ...        ...        ...   \n",
       "19120               24                   7  23.634334  46.725488   \n",
       "132671               2                  11  23.626547  46.710285   \n",
       "374110               6                   6  20.211492  50.927189   \n",
       "50257                8                   4  22.593498  46.524964   \n",
       "403221              16                   9  23.530797  46.810058   \n",
       "\n",
       "        CLASSIFICACAO                                            RUBRICA  \n",
       "425727             21                                   Furto (art. 155)  \n",
       "287011             28  Lesão corporal culposa na direção de veículo a...  \n",
       "297317             36                                   Roubo (art. 157)  \n",
       "443656             21                                   Furto (art. 155)  \n",
       "85559              21                                   Furto (art. 155)  \n",
       "...               ...                                                ...  \n",
       "19120              36                                   Roubo (art. 157)  \n",
       "132671             21                                   Furto (art. 155)  \n",
       "374110             28  Lesão corporal culposa na direção de veículo a...  \n",
       "50257              27                          Lesão corporal (art. 129)  \n",
       "403221             36                                   Roubo (art. 157)  \n",
       "\n",
       "[100000 rows x 10 columns]"
      ]
     },
     "execution_count": 36,
     "metadata": {},
     "output_type": "execute_result"
    }
   ],
   "source": [
    "teste = df.sample(100000)\n",
    "\n",
    "teste"
   ]
  },
  {
   "cell_type": "code",
   "execution_count": 37,
   "id": "9a890aa8-c8ca-484d-bf4e-93a0b64797d3",
   "metadata": {},
   "outputs": [
    {
     "data": {
      "text/plain": [
       "Furto (art. 155)                                                                    41823\n",
       "Roubo (art. 157)                                                                    32604\n",
       "Lesão corporal culposa na direção de veículo automotor (Art. 303)                    9004\n",
       "Lesão corporal (art. 129)                                                            8648\n",
       "Drogas sem autorização ou em desacordo (Art.33, caput)                               4171\n",
       "Drogas para consumo pessoal sem autorização ou em desacordo (Art.28,caput)           1902\n",
       "Homicídio (art. 121)                                                                  601\n",
       "Associarem-se duas ou mais pessoas - arts. 33, caput e § 1o, e 34 (Art.35,caput)      344\n",
       "Homicídio culposo na direção de veículo automotor (Art. 302)                          299\n",
       "Porte ilegal de arma de fogo de uso permitido (Art. 14)                               243\n",
       "Posse ou porte ilegal de arma de fogo de uso restrito (Art. 16)                       190\n",
       "Porte de arma (art. 19)                                                                91\n",
       "HomicIdio culposo na direção de veIculo automotor (Art. 302)                           80\n",
       "Name: RUBRICA, dtype: int64"
      ]
     },
     "execution_count": 37,
     "metadata": {},
     "output_type": "execute_result"
    }
   ],
   "source": [
    "teste[\"RUBRICA\"].value_counts()"
   ]
  },
  {
   "cell_type": "markdown",
   "id": "2fb3afad-672f-4d3d-bb0c-cc734dd397ea",
   "metadata": {},
   "source": [
    "# 4. Treinando o modelo"
   ]
  },
  {
   "cell_type": "markdown",
   "id": "f47b3ae0-cb3a-4242-ae85-50f16468ce03",
   "metadata": {},
   "source": [
    "## 4.1 Separando atributos base e atributos alvo"
   ]
  },
  {
   "cell_type": "code",
   "execution_count": 38,
   "id": "4c8cbb4d-ef56-4d5a-9072-c38a59676809",
   "metadata": {},
   "outputs": [
    {
     "data": {
      "text/html": [
       "<div>\n",
       "<style scoped>\n",
       "    .dataframe tbody tr th:only-of-type {\n",
       "        vertical-align: middle;\n",
       "    }\n",
       "\n",
       "    .dataframe tbody tr th {\n",
       "        vertical-align: top;\n",
       "    }\n",
       "\n",
       "    .dataframe thead th {\n",
       "        text-align: right;\n",
       "    }\n",
       "</style>\n",
       "<table border=\"1\" class=\"dataframe\">\n",
       "  <thead>\n",
       "    <tr style=\"text-align: right;\">\n",
       "      <th></th>\n",
       "      <th>DIAS_REGISTRO</th>\n",
       "      <th>MES_REGISTRO</th>\n",
       "      <th>DIA_REGISTRO</th>\n",
       "      <th>MES_OCORRENCIA</th>\n",
       "      <th>DIA_OCORRENCIA</th>\n",
       "      <th>HORA_OCORRENCIA_BO</th>\n",
       "      <th>LATITUDE</th>\n",
       "      <th>LONGITUDE</th>\n",
       "    </tr>\n",
       "  </thead>\n",
       "  <tbody>\n",
       "    <tr>\n",
       "      <th>5</th>\n",
       "      <td>1</td>\n",
       "      <td>1</td>\n",
       "      <td>1</td>\n",
       "      <td>12</td>\n",
       "      <td>31</td>\n",
       "      <td>9</td>\n",
       "      <td>23.552728</td>\n",
       "      <td>46.626623</td>\n",
       "    </tr>\n",
       "    <tr>\n",
       "      <th>8</th>\n",
       "      <td>0</td>\n",
       "      <td>1</td>\n",
       "      <td>1</td>\n",
       "      <td>1</td>\n",
       "      <td>1</td>\n",
       "      <td>7</td>\n",
       "      <td>23.551932</td>\n",
       "      <td>46.625661</td>\n",
       "    </tr>\n",
       "    <tr>\n",
       "      <th>10</th>\n",
       "      <td>0</td>\n",
       "      <td>12</td>\n",
       "      <td>31</td>\n",
       "      <td>12</td>\n",
       "      <td>31</td>\n",
       "      <td>4</td>\n",
       "      <td>23.553375</td>\n",
       "      <td>46.627812</td>\n",
       "    </tr>\n",
       "    <tr>\n",
       "      <th>11</th>\n",
       "      <td>1</td>\n",
       "      <td>1</td>\n",
       "      <td>1</td>\n",
       "      <td>12</td>\n",
       "      <td>31</td>\n",
       "      <td>8</td>\n",
       "      <td>23.552688</td>\n",
       "      <td>46.626680</td>\n",
       "    </tr>\n",
       "    <tr>\n",
       "      <th>12</th>\n",
       "      <td>1</td>\n",
       "      <td>1</td>\n",
       "      <td>1</td>\n",
       "      <td>12</td>\n",
       "      <td>31</td>\n",
       "      <td>8</td>\n",
       "      <td>23.551201</td>\n",
       "      <td>46.634047</td>\n",
       "    </tr>\n",
       "    <tr>\n",
       "      <th>...</th>\n",
       "      <td>...</td>\n",
       "      <td>...</td>\n",
       "      <td>...</td>\n",
       "      <td>...</td>\n",
       "      <td>...</td>\n",
       "      <td>...</td>\n",
       "      <td>...</td>\n",
       "      <td>...</td>\n",
       "    </tr>\n",
       "    <tr>\n",
       "      <th>618392</th>\n",
       "      <td>0</td>\n",
       "      <td>6</td>\n",
       "      <td>7</td>\n",
       "      <td>6</td>\n",
       "      <td>7</td>\n",
       "      <td>2</td>\n",
       "      <td>23.629124</td>\n",
       "      <td>46.788386</td>\n",
       "    </tr>\n",
       "    <tr>\n",
       "      <th>618393</th>\n",
       "      <td>0</td>\n",
       "      <td>6</td>\n",
       "      <td>13</td>\n",
       "      <td>6</td>\n",
       "      <td>13</td>\n",
       "      <td>1</td>\n",
       "      <td>23.641856</td>\n",
       "      <td>46.804309</td>\n",
       "    </tr>\n",
       "    <tr>\n",
       "      <th>618394</th>\n",
       "      <td>0</td>\n",
       "      <td>6</td>\n",
       "      <td>15</td>\n",
       "      <td>6</td>\n",
       "      <td>15</td>\n",
       "      <td>1</td>\n",
       "      <td>23.626038</td>\n",
       "      <td>46.794801</td>\n",
       "    </tr>\n",
       "    <tr>\n",
       "      <th>618395</th>\n",
       "      <td>0</td>\n",
       "      <td>6</td>\n",
       "      <td>21</td>\n",
       "      <td>6</td>\n",
       "      <td>21</td>\n",
       "      <td>11</td>\n",
       "      <td>23.641856</td>\n",
       "      <td>46.804309</td>\n",
       "    </tr>\n",
       "    <tr>\n",
       "      <th>618396</th>\n",
       "      <td>0</td>\n",
       "      <td>6</td>\n",
       "      <td>21</td>\n",
       "      <td>6</td>\n",
       "      <td>21</td>\n",
       "      <td>1</td>\n",
       "      <td>23.638724</td>\n",
       "      <td>46.810414</td>\n",
       "    </tr>\n",
       "  </tbody>\n",
       "</table>\n",
       "<p>326981 rows × 8 columns</p>\n",
       "</div>"
      ],
      "text/plain": [
       "        DIAS_REGISTRO  MES_REGISTRO  DIA_REGISTRO  MES_OCORRENCIA  \\\n",
       "5                   1             1             1              12   \n",
       "8                   0             1             1               1   \n",
       "10                  0            12            31              12   \n",
       "11                  1             1             1              12   \n",
       "12                  1             1             1              12   \n",
       "...               ...           ...           ...             ...   \n",
       "618392              0             6             7               6   \n",
       "618393              0             6            13               6   \n",
       "618394              0             6            15               6   \n",
       "618395              0             6            21               6   \n",
       "618396              0             6            21               6   \n",
       "\n",
       "        DIA_OCORRENCIA  HORA_OCORRENCIA_BO   LATITUDE  LONGITUDE  \n",
       "5                   31                   9  23.552728  46.626623  \n",
       "8                    1                   7  23.551932  46.625661  \n",
       "10                  31                   4  23.553375  46.627812  \n",
       "11                  31                   8  23.552688  46.626680  \n",
       "12                  31                   8  23.551201  46.634047  \n",
       "...                ...                 ...        ...        ...  \n",
       "618392               7                   2  23.629124  46.788386  \n",
       "618393              13                   1  23.641856  46.804309  \n",
       "618394              15                   1  23.626038  46.794801  \n",
       "618395              21                  11  23.641856  46.804309  \n",
       "618396              21                   1  23.638724  46.810414  \n",
       "\n",
       "[326981 rows x 8 columns]"
      ]
     },
     "execution_count": 38,
     "metadata": {},
     "output_type": "execute_result"
    }
   ],
   "source": [
    "X = df.iloc[:, : -2]\n",
    "y = df.loc[:, \"CLASSIFICACAO\"]\n",
    "X"
   ]
  },
  {
   "cell_type": "markdown",
   "id": "e6df9f7a-7d0c-40cf-a13f-32ecb7c56973",
   "metadata": {},
   "source": [
    "## 4.2 Separando conjunto de teste e treinamento"
   ]
  },
  {
   "cell_type": "code",
   "execution_count": 39,
   "id": "a693e218-8e90-45b6-b2da-c91c4d9217a5",
   "metadata": {},
   "outputs": [],
   "source": [
    "X_train, X_test, y_train, y_test = train_test_split(X, y, test_size=0.2, train_size=0.8, random_state=1)"
   ]
  },
  {
   "cell_type": "code",
   "execution_count": 40,
   "id": "b08e4fbe-47a1-4d9a-bfb0-20ef049ed958",
   "metadata": {},
   "outputs": [
    {
     "data": {
      "text/plain": [
       "(261584, 65397, 261584, 65397)"
      ]
     },
     "execution_count": 40,
     "metadata": {},
     "output_type": "execute_result"
    }
   ],
   "source": [
    "len(X_train), len (X_test), len(y_train), len(y_test)"
   ]
  },
  {
   "cell_type": "markdown",
   "id": "dd26bdf4-8da5-4d0a-b9ae-154f9edc5e0b",
   "metadata": {},
   "source": [
    "## 4.3 Instanciando o treinamento do modelo Categorical Naive Bayes"
   ]
  },
  {
   "cell_type": "code",
   "execution_count": 41,
   "id": "ee755d70-989d-419b-a837-d1ba3d42a377",
   "metadata": {},
   "outputs": [
    {
     "data": {
      "text/html": [
       "<style>#sk-container-id-1 {color: black;background-color: white;}#sk-container-id-1 pre{padding: 0;}#sk-container-id-1 div.sk-toggleable {background-color: white;}#sk-container-id-1 label.sk-toggleable__label {cursor: pointer;display: block;width: 100%;margin-bottom: 0;padding: 0.3em;box-sizing: border-box;text-align: center;}#sk-container-id-1 label.sk-toggleable__label-arrow:before {content: \"▸\";float: left;margin-right: 0.25em;color: #696969;}#sk-container-id-1 label.sk-toggleable__label-arrow:hover:before {color: black;}#sk-container-id-1 div.sk-estimator:hover label.sk-toggleable__label-arrow:before {color: black;}#sk-container-id-1 div.sk-toggleable__content {max-height: 0;max-width: 0;overflow: hidden;text-align: left;background-color: #f0f8ff;}#sk-container-id-1 div.sk-toggleable__content pre {margin: 0.2em;color: black;border-radius: 0.25em;background-color: #f0f8ff;}#sk-container-id-1 input.sk-toggleable__control:checked~div.sk-toggleable__content {max-height: 200px;max-width: 100%;overflow: auto;}#sk-container-id-1 input.sk-toggleable__control:checked~label.sk-toggleable__label-arrow:before {content: \"▾\";}#sk-container-id-1 div.sk-estimator input.sk-toggleable__control:checked~label.sk-toggleable__label {background-color: #d4ebff;}#sk-container-id-1 div.sk-label input.sk-toggleable__control:checked~label.sk-toggleable__label {background-color: #d4ebff;}#sk-container-id-1 input.sk-hidden--visually {border: 0;clip: rect(1px 1px 1px 1px);clip: rect(1px, 1px, 1px, 1px);height: 1px;margin: -1px;overflow: hidden;padding: 0;position: absolute;width: 1px;}#sk-container-id-1 div.sk-estimator {font-family: monospace;background-color: #f0f8ff;border: 1px dotted black;border-radius: 0.25em;box-sizing: border-box;margin-bottom: 0.5em;}#sk-container-id-1 div.sk-estimator:hover {background-color: #d4ebff;}#sk-container-id-1 div.sk-parallel-item::after {content: \"\";width: 100%;border-bottom: 1px solid gray;flex-grow: 1;}#sk-container-id-1 div.sk-label:hover label.sk-toggleable__label {background-color: #d4ebff;}#sk-container-id-1 div.sk-serial::before {content: \"\";position: absolute;border-left: 1px solid gray;box-sizing: border-box;top: 0;bottom: 0;left: 50%;z-index: 0;}#sk-container-id-1 div.sk-serial {display: flex;flex-direction: column;align-items: center;background-color: white;padding-right: 0.2em;padding-left: 0.2em;position: relative;}#sk-container-id-1 div.sk-item {position: relative;z-index: 1;}#sk-container-id-1 div.sk-parallel {display: flex;align-items: stretch;justify-content: center;background-color: white;position: relative;}#sk-container-id-1 div.sk-item::before, #sk-container-id-1 div.sk-parallel-item::before {content: \"\";position: absolute;border-left: 1px solid gray;box-sizing: border-box;top: 0;bottom: 0;left: 50%;z-index: -1;}#sk-container-id-1 div.sk-parallel-item {display: flex;flex-direction: column;z-index: 1;position: relative;background-color: white;}#sk-container-id-1 div.sk-parallel-item:first-child::after {align-self: flex-end;width: 50%;}#sk-container-id-1 div.sk-parallel-item:last-child::after {align-self: flex-start;width: 50%;}#sk-container-id-1 div.sk-parallel-item:only-child::after {width: 0;}#sk-container-id-1 div.sk-dashed-wrapped {border: 1px dashed gray;margin: 0 0.4em 0.5em 0.4em;box-sizing: border-box;padding-bottom: 0.4em;background-color: white;}#sk-container-id-1 div.sk-label label {font-family: monospace;font-weight: bold;display: inline-block;line-height: 1.2em;}#sk-container-id-1 div.sk-label-container {text-align: center;}#sk-container-id-1 div.sk-container {/* jupyter's `normalize.less` sets `[hidden] { display: none; }` but bootstrap.min.css set `[hidden] { display: none !important; }` so we also need the `!important` here to be able to override the default hidden behavior on the sphinx rendered scikit-learn.org. See: https://github.com/scikit-learn/scikit-learn/issues/21755 */display: inline-block !important;position: relative;}#sk-container-id-1 div.sk-text-repr-fallback {display: none;}</style><div id=\"sk-container-id-1\" class=\"sk-top-container\"><div class=\"sk-text-repr-fallback\"><pre>CategoricalNB()</pre><b>In a Jupyter environment, please rerun this cell to show the HTML representation or trust the notebook. <br />On GitHub, the HTML representation is unable to render, please try loading this page with nbviewer.org.</b></div><div class=\"sk-container\" hidden><div class=\"sk-item\"><div class=\"sk-estimator sk-toggleable\"><input class=\"sk-toggleable__control sk-hidden--visually\" id=\"sk-estimator-id-1\" type=\"checkbox\" checked><label for=\"sk-estimator-id-1\" class=\"sk-toggleable__label sk-toggleable__label-arrow\">CategoricalNB</label><div class=\"sk-toggleable__content\"><pre>CategoricalNB()</pre></div></div></div></div></div>"
      ],
      "text/plain": [
       "CategoricalNB()"
      ]
     },
     "execution_count": 41,
     "metadata": {},
     "output_type": "execute_result"
    }
   ],
   "source": [
    "cnb = CategoricalNB()\n",
    "cnb.fit(X_train, y_train)"
   ]
  },
  {
   "cell_type": "markdown",
   "id": "a19155c3-76d2-4d08-b7bd-a18e51bb2052",
   "metadata": {},
   "source": [
    "## 4.4 Checando métricas"
   ]
  },
  {
   "cell_type": "code",
   "execution_count": 42,
   "id": "0e2f854e-8580-435c-b530-6e6901187767",
   "metadata": {},
   "outputs": [
    {
     "data": {
      "text/plain": [
       "0.4512"
      ]
     },
     "execution_count": 42,
     "metadata": {},
     "output_type": "execute_result"
    }
   ],
   "source": [
    "round(cnb.score(X_train, y_train),4)"
   ]
  },
  {
   "cell_type": "code",
   "execution_count": 43,
   "id": "30264a88-705c-462a-9be5-f8fb001c43a5",
   "metadata": {},
   "outputs": [
    {
     "data": {
      "text/plain": [
       "0.44697769010810895"
      ]
     },
     "execution_count": 43,
     "metadata": {},
     "output_type": "execute_result"
    }
   ],
   "source": [
    "cnb.score(X_test, y_test)"
   ]
  },
  {
   "cell_type": "markdown",
   "id": "a37315f4-5ba6-4d9b-b307-a82a1f3b6349",
   "metadata": {},
   "source": [
    "## 4.5 Instanciando o treinamento do modelo random forest"
   ]
  },
  {
   "cell_type": "code",
   "execution_count": 44,
   "id": "ae1b3541-59f3-41ef-82a6-00c483d2eeb2",
   "metadata": {},
   "outputs": [],
   "source": [
    "rf = RandomForestClassifier(n_estimators=100, random_state=42)"
   ]
  },
  {
   "cell_type": "code",
   "execution_count": 45,
   "id": "f564e24a-f343-4731-8fac-0f949e24c30b",
   "metadata": {},
   "outputs": [
    {
     "data": {
      "text/html": [
       "<style>#sk-container-id-2 {color: black;background-color: white;}#sk-container-id-2 pre{padding: 0;}#sk-container-id-2 div.sk-toggleable {background-color: white;}#sk-container-id-2 label.sk-toggleable__label {cursor: pointer;display: block;width: 100%;margin-bottom: 0;padding: 0.3em;box-sizing: border-box;text-align: center;}#sk-container-id-2 label.sk-toggleable__label-arrow:before {content: \"▸\";float: left;margin-right: 0.25em;color: #696969;}#sk-container-id-2 label.sk-toggleable__label-arrow:hover:before {color: black;}#sk-container-id-2 div.sk-estimator:hover label.sk-toggleable__label-arrow:before {color: black;}#sk-container-id-2 div.sk-toggleable__content {max-height: 0;max-width: 0;overflow: hidden;text-align: left;background-color: #f0f8ff;}#sk-container-id-2 div.sk-toggleable__content pre {margin: 0.2em;color: black;border-radius: 0.25em;background-color: #f0f8ff;}#sk-container-id-2 input.sk-toggleable__control:checked~div.sk-toggleable__content {max-height: 200px;max-width: 100%;overflow: auto;}#sk-container-id-2 input.sk-toggleable__control:checked~label.sk-toggleable__label-arrow:before {content: \"▾\";}#sk-container-id-2 div.sk-estimator input.sk-toggleable__control:checked~label.sk-toggleable__label {background-color: #d4ebff;}#sk-container-id-2 div.sk-label input.sk-toggleable__control:checked~label.sk-toggleable__label {background-color: #d4ebff;}#sk-container-id-2 input.sk-hidden--visually {border: 0;clip: rect(1px 1px 1px 1px);clip: rect(1px, 1px, 1px, 1px);height: 1px;margin: -1px;overflow: hidden;padding: 0;position: absolute;width: 1px;}#sk-container-id-2 div.sk-estimator {font-family: monospace;background-color: #f0f8ff;border: 1px dotted black;border-radius: 0.25em;box-sizing: border-box;margin-bottom: 0.5em;}#sk-container-id-2 div.sk-estimator:hover {background-color: #d4ebff;}#sk-container-id-2 div.sk-parallel-item::after {content: \"\";width: 100%;border-bottom: 1px solid gray;flex-grow: 1;}#sk-container-id-2 div.sk-label:hover label.sk-toggleable__label {background-color: #d4ebff;}#sk-container-id-2 div.sk-serial::before {content: \"\";position: absolute;border-left: 1px solid gray;box-sizing: border-box;top: 0;bottom: 0;left: 50%;z-index: 0;}#sk-container-id-2 div.sk-serial {display: flex;flex-direction: column;align-items: center;background-color: white;padding-right: 0.2em;padding-left: 0.2em;position: relative;}#sk-container-id-2 div.sk-item {position: relative;z-index: 1;}#sk-container-id-2 div.sk-parallel {display: flex;align-items: stretch;justify-content: center;background-color: white;position: relative;}#sk-container-id-2 div.sk-item::before, #sk-container-id-2 div.sk-parallel-item::before {content: \"\";position: absolute;border-left: 1px solid gray;box-sizing: border-box;top: 0;bottom: 0;left: 50%;z-index: -1;}#sk-container-id-2 div.sk-parallel-item {display: flex;flex-direction: column;z-index: 1;position: relative;background-color: white;}#sk-container-id-2 div.sk-parallel-item:first-child::after {align-self: flex-end;width: 50%;}#sk-container-id-2 div.sk-parallel-item:last-child::after {align-self: flex-start;width: 50%;}#sk-container-id-2 div.sk-parallel-item:only-child::after {width: 0;}#sk-container-id-2 div.sk-dashed-wrapped {border: 1px dashed gray;margin: 0 0.4em 0.5em 0.4em;box-sizing: border-box;padding-bottom: 0.4em;background-color: white;}#sk-container-id-2 div.sk-label label {font-family: monospace;font-weight: bold;display: inline-block;line-height: 1.2em;}#sk-container-id-2 div.sk-label-container {text-align: center;}#sk-container-id-2 div.sk-container {/* jupyter's `normalize.less` sets `[hidden] { display: none; }` but bootstrap.min.css set `[hidden] { display: none !important; }` so we also need the `!important` here to be able to override the default hidden behavior on the sphinx rendered scikit-learn.org. See: https://github.com/scikit-learn/scikit-learn/issues/21755 */display: inline-block !important;position: relative;}#sk-container-id-2 div.sk-text-repr-fallback {display: none;}</style><div id=\"sk-container-id-2\" class=\"sk-top-container\"><div class=\"sk-text-repr-fallback\"><pre>RandomForestClassifier(random_state=42)</pre><b>In a Jupyter environment, please rerun this cell to show the HTML representation or trust the notebook. <br />On GitHub, the HTML representation is unable to render, please try loading this page with nbviewer.org.</b></div><div class=\"sk-container\" hidden><div class=\"sk-item\"><div class=\"sk-estimator sk-toggleable\"><input class=\"sk-toggleable__control sk-hidden--visually\" id=\"sk-estimator-id-2\" type=\"checkbox\" checked><label for=\"sk-estimator-id-2\" class=\"sk-toggleable__label sk-toggleable__label-arrow\">RandomForestClassifier</label><div class=\"sk-toggleable__content\"><pre>RandomForestClassifier(random_state=42)</pre></div></div></div></div></div>"
      ],
      "text/plain": [
       "RandomForestClassifier(random_state=42)"
      ]
     },
     "execution_count": 45,
     "metadata": {},
     "output_type": "execute_result"
    }
   ],
   "source": [
    "rf.fit(X_train,y_train)"
   ]
  },
  {
   "cell_type": "markdown",
   "id": "f62b317b-d47e-43cc-9cd5-a0c29003bd70",
   "metadata": {},
   "source": [
    "## 4.6 Checando métricas"
   ]
  },
  {
   "cell_type": "code",
   "execution_count": 48,
   "id": "8a8d3ad8-2011-4ef1-a185-b6ea2505a390",
   "metadata": {},
   "outputs": [
    {
     "data": {
      "text/plain": [
       "0.9933482170163312"
      ]
     },
     "execution_count": 48,
     "metadata": {},
     "output_type": "execute_result"
    }
   ],
   "source": [
    "rf.score(X_train, y_train)"
   ]
  },
  {
   "cell_type": "code",
   "execution_count": 47,
   "id": "be33a8f4-2791-4765-a734-38ae91e1d314",
   "metadata": {},
   "outputs": [
    {
     "data": {
      "text/plain": [
       "0.49909017233206415"
      ]
     },
     "execution_count": 47,
     "metadata": {},
     "output_type": "execute_result"
    }
   ],
   "source": [
    "rf.score(X_test, y_test)"
   ]
  },
  {
   "cell_type": "code",
   "execution_count": null,
   "id": "95112261-747d-486b-aeb2-b31c52cc230a",
   "metadata": {},
   "outputs": [],
   "source": []
  }
 ],
 "metadata": {
  "kernelspec": {
   "display_name": "Python 3 (ipykernel)",
   "language": "python",
   "name": "python3"
  },
  "language_info": {
   "codemirror_mode": {
    "name": "ipython",
    "version": 3
   },
   "file_extension": ".py",
   "mimetype": "text/x-python",
   "name": "python",
   "nbconvert_exporter": "python",
   "pygments_lexer": "ipython3",
   "version": "3.10.9"
  }
 },
 "nbformat": 4,
 "nbformat_minor": 5
}
